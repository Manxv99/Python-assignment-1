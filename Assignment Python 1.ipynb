{
 "cells": [
  {
   "cell_type": "code",
   "execution_count": 1,
   "id": "632b9f52-d275-4004-85aa-0bd15c04b4b2",
   "metadata": {},
   "outputs": [],
   "source": [
    "# Q1. Create one variable containing following type of data:\n",
    "# (i) string\n",
    "# (ii) list\n",
    "# (iii) float\n",
    "# (iv) tuple"
   ]
  },
  {
   "cell_type": "code",
   "execution_count": 2,
   "id": "da91f758-9f13-4855-86ff-804f4cfefaec",
   "metadata": {},
   "outputs": [],
   "source": [
    "a = \"Manav\""
   ]
  },
  {
   "cell_type": "code",
   "execution_count": 3,
   "id": "2bd7fda4-227e-44e4-b319-8af0b7030c9b",
   "metadata": {},
   "outputs": [
    {
     "data": {
      "text/plain": [
       "'Manav'"
      ]
     },
     "execution_count": 3,
     "metadata": {},
     "output_type": "execute_result"
    }
   ],
   "source": [
    "a"
   ]
  },
  {
   "cell_type": "code",
   "execution_count": 4,
   "id": "db02578b-15f1-4b49-af39-d75f7b14bfe9",
   "metadata": {},
   "outputs": [],
   "source": [
    "l = [1,2,3,\"manav\",74.44,True]"
   ]
  },
  {
   "cell_type": "code",
   "execution_count": 5,
   "id": "ef7308ee-4801-473a-acaf-9d2157137c15",
   "metadata": {},
   "outputs": [
    {
     "data": {
      "text/plain": [
       "[1, 2, 3, 'manav', 74.44, True]"
      ]
     },
     "execution_count": 5,
     "metadata": {},
     "output_type": "execute_result"
    }
   ],
   "source": [
    "l"
   ]
  },
  {
   "cell_type": "code",
   "execution_count": 6,
   "id": "f3dcdac3-2291-4b37-9ec0-e71a5ba9c5f1",
   "metadata": {},
   "outputs": [],
   "source": [
    "num = 89.344"
   ]
  },
  {
   "cell_type": "code",
   "execution_count": 7,
   "id": "a8de0a84-bd02-4683-9d81-69541048dfcf",
   "metadata": {},
   "outputs": [
    {
     "data": {
      "text/plain": [
       "89.344"
      ]
     },
     "execution_count": 7,
     "metadata": {},
     "output_type": "execute_result"
    }
   ],
   "source": [
    "num"
   ]
  },
  {
   "cell_type": "code",
   "execution_count": 8,
   "id": "9c322693-896e-45f3-a499-7da9ccdd6d7d",
   "metadata": {},
   "outputs": [],
   "source": [
    "t = (2,3,4)"
   ]
  },
  {
   "cell_type": "code",
   "execution_count": 9,
   "id": "cb10089a-90ac-47a0-9a82-20ce00edde89",
   "metadata": {},
   "outputs": [
    {
     "data": {
      "text/plain": [
       "(2, 3, 4)"
      ]
     },
     "execution_count": 9,
     "metadata": {},
     "output_type": "execute_result"
    }
   ],
   "source": [
    "t"
   ]
  },
  {
   "cell_type": "code",
   "execution_count": 11,
   "id": "95afabe6-4f7d-47a4-a734-04dd44e87207",
   "metadata": {},
   "outputs": [],
   "source": [
    "# Q2. Given are some following variables containing data:\n",
    "# (i) var1 = ‘ ‘\n",
    "# (ii) var2 = ‘[ DS , ML , Python]’\n",
    "# (iii) var3 = [ ‘DS’ , ’ML’ , ‘Python’ ]\n",
    "# (iv) var4 = 1.\n",
    "# What will be the data type of the above given variable."
   ]
  },
  {
   "cell_type": "code",
   "execution_count": 12,
   "id": "e2f7ae3a-f63c-4c20-8bc1-25c2485b23f2",
   "metadata": {},
   "outputs": [],
   "source": [
    "# i) string\n",
    "# ii) string\n",
    "# iii) list\n",
    "# iv) int"
   ]
  },
  {
   "cell_type": "code",
   "execution_count": 13,
   "id": "a6b02149-1f9a-48d6-9b68-20a7d5c152d7",
   "metadata": {},
   "outputs": [],
   "source": [
    "# Q3. Explain the use of the following operators using an example:\n",
    "# (i) /\n",
    "# (ii) %\n",
    "# (iii) //\n",
    "# (iv) **"
   ]
  },
  {
   "cell_type": "code",
   "execution_count": 14,
   "id": "6d5ec89d-7318-4df1-88e8-d221f835e9ff",
   "metadata": {},
   "outputs": [],
   "source": [
    "# (i) / (Division Operator):\n",
    "# The / operator is used for division in Python. It performs floating-point division, which means it returns a floating-point result."
   ]
  },
  {
   "cell_type": "code",
   "execution_count": 15,
   "id": "a772bc9f-3e19-4fdd-9c34-646f41377822",
   "metadata": {},
   "outputs": [
    {
     "data": {
      "text/plain": [
       "2.0"
      ]
     },
     "execution_count": 15,
     "metadata": {},
     "output_type": "execute_result"
    }
   ],
   "source": [
    "10/5"
   ]
  },
  {
   "cell_type": "code",
   "execution_count": 16,
   "id": "60db6626-374b-4eb5-b271-72bdc7cbd807",
   "metadata": {},
   "outputs": [],
   "source": [
    "# (ii) % (Modulus Operator):\n",
    "# The % operator calculates the remainder of a division operation. "
   ]
  },
  {
   "cell_type": "code",
   "execution_count": 17,
   "id": "09e83d8f-b89c-40a0-9dc2-43e146cd8f71",
   "metadata": {},
   "outputs": [
    {
     "data": {
      "text/plain": [
       "0"
      ]
     },
     "execution_count": 17,
     "metadata": {},
     "output_type": "execute_result"
    }
   ],
   "source": [
    "10%2"
   ]
  },
  {
   "cell_type": "code",
   "execution_count": 18,
   "id": "11884d02-f94c-4e72-9793-8ca326091ecb",
   "metadata": {},
   "outputs": [],
   "source": [
    "# (iii) // (Floor Division Operator):\n",
    "# The // operator performs floor division, which means it returns the largest integer less than or equal to the result of the division"
   ]
  },
  {
   "cell_type": "code",
   "execution_count": 19,
   "id": "ab910b41-f8af-4e22-b151-a7377387f082",
   "metadata": {},
   "outputs": [
    {
     "data": {
      "text/plain": [
       "3"
      ]
     },
     "execution_count": 19,
     "metadata": {},
     "output_type": "execute_result"
    }
   ],
   "source": [
    "10//3"
   ]
  },
  {
   "cell_type": "code",
   "execution_count": 20,
   "id": "3670f679-9510-4a60-be94-23ded07f84b0",
   "metadata": {},
   "outputs": [],
   "source": [
    "# (iv) ** (Exponentiation Operator):\n",
    "# The ** operator is used for exponentiation, raising a number to a power. It calculates the result of a number raised to a specified exponent."
   ]
  },
  {
   "cell_type": "code",
   "execution_count": 21,
   "id": "16528236-fd11-490c-b19c-a9c5e49991d3",
   "metadata": {},
   "outputs": [
    {
     "data": {
      "text/plain": [
       "8"
      ]
     },
     "execution_count": 21,
     "metadata": {},
     "output_type": "execute_result"
    }
   ],
   "source": [
    "2**3"
   ]
  },
  {
   "cell_type": "code",
   "execution_count": 22,
   "id": "c2b5a563-0072-4f3a-a963-1f00a8ed2f31",
   "metadata": {},
   "outputs": [],
   "source": [
    "# Q4. Create a list of length 10 of your choice containing multiple types of data. Using for loop print the\n",
    "# element and its data type."
   ]
  },
  {
   "cell_type": "code",
   "execution_count": 23,
   "id": "24e3a1d8-097c-4a8e-8759-188f769ab622",
   "metadata": {},
   "outputs": [
    {
     "name": "stdout",
     "output_type": "stream",
     "text": [
      "Element: 42, Data Type: <class 'int'>\n",
      "Element: Hello, World!, Data Type: <class 'str'>\n",
      "Element: 3.14, Data Type: <class 'float'>\n",
      "Element: True, Data Type: <class 'bool'>\n",
      "Element: [1, 2, 3], Data Type: <class 'list'>\n",
      "Element: {'name': 'John', 'age': 30}, Data Type: <class 'dict'>\n",
      "Element: None, Data Type: <class 'NoneType'>\n",
      "Element: (1, 2), Data Type: <class 'tuple'>\n",
      "Element: False, Data Type: <class 'bool'>\n",
      "Element: Python, Data Type: <class 'str'>\n"
     ]
    }
   ],
   "source": [
    "my_list = [42, \"Hello, World!\", 3.14, True, [1, 2, 3], {\"name\": \"John\", \"age\": 30}, None, (1, 2), False, \"Python\"]\n",
    "\n",
    "for element in my_list:\n",
    "    print(f\"Element: {element}, Data Type: {type(element)}\")"
   ]
  },
  {
   "cell_type": "code",
   "execution_count": 24,
   "id": "dbe0f395-2e62-4f44-b854-0b1c1a478b56",
   "metadata": {},
   "outputs": [],
   "source": [
    "# Q5. Using a while loop, verify if the number A is purely divisible by number B and if so then how many\n",
    "# times it can be divisible."
   ]
  },
  {
   "cell_type": "code",
   "execution_count": 27,
   "id": "902759f8-fd04-4967-8129-1022934cafd7",
   "metadata": {},
   "outputs": [
    {
     "name": "stdin",
     "output_type": "stream",
     "text": [
      "Enter number A:  16\n",
      "Enter number B:  2\n"
     ]
    },
    {
     "name": "stdout",
     "output_type": "stream",
     "text": [
      "16 is purely divisible by 2 4 times.\n"
     ]
    }
   ],
   "source": [
    "# Input the two numbers A and B\n",
    "A = int(input(\"Enter number A: \"))\n",
    "B = int(input(\"Enter number B: \"))\n",
    "a=A\n",
    "# Initialize a counter for the number of divisions\n",
    "count = 0\n",
    "\n",
    "# Use a while loop to check and count divisions\n",
    "while A % B == 0:\n",
    "    A = A / B\n",
    "    count += 1\n",
    "\n",
    "# Check if A became 1 after divisions\n",
    "if A == 1:\n",
    "    print(f\"{a} is purely divisible by {B} {count} times.\")\n",
    "else:\n",
    "    print(f\"{A} is not purely divisible by {B}.\")\n"
   ]
  },
  {
   "cell_type": "code",
   "execution_count": 28,
   "id": "93e7700a-07b5-45a6-847d-e29a2ea0dbe6",
   "metadata": {},
   "outputs": [],
   "source": [
    "# Q6. Create a list containing 25 int type data. Using for loop and if-else condition print if the element is\n",
    "# divisible by 3 or not."
   ]
  },
  {
   "cell_type": "code",
   "execution_count": 30,
   "id": "877f3dbe-4b8d-4f9f-a15e-24bb2c41216e",
   "metadata": {},
   "outputs": [
    {
     "name": "stdout",
     "output_type": "stream",
     "text": [
      "2 is not divisible by 3.\n",
      "6 is divisible by 3.\n",
      "9 is divisible by 3.\n",
      "12 is divisible by 3.\n",
      "15 is divisible by 3.\n",
      "18 is divisible by 3.\n",
      "21 is divisible by 3.\n",
      "24 is divisible by 3.\n",
      "27 is divisible by 3.\n",
      "30 is divisible by 3.\n",
      "33 is divisible by 3.\n",
      "34 is not divisible by 3.\n",
      "39 is divisible by 3.\n",
      "42 is divisible by 3.\n",
      "45 is divisible by 3.\n",
      "48 is divisible by 3.\n",
      "50 is not divisible by 3.\n",
      "54 is divisible by 3.\n",
      "57 is divisible by 3.\n",
      "60 is divisible by 3.\n",
      "63 is divisible by 3.\n",
      "66 is divisible by 3.\n",
      "69 is divisible by 3.\n",
      "72 is divisible by 3.\n",
      "75 is divisible by 3.\n"
     ]
    }
   ],
   "source": [
    "# Create a list of 25 integer-type elements\n",
    "my_list = [2, 6, 9, 12, 15, 18, 21, 24, 27, 30, 33, 34, 39, 42, 45, 48, 50, 54, 57, 60, 63, 66, 69, 72, 75]\n",
    "\n",
    "# Use a for loop to iterate through the elements and check divisibility by 3\n",
    "for element in my_list:\n",
    "    if element % 3 == 0:\n",
    "        print(f\"{element} is divisible by 3.\")\n",
    "    else:\n",
    "        print(f\"{element} is not divisible by 3.\")\n"
   ]
  },
  {
   "cell_type": "code",
   "execution_count": 31,
   "id": "4e54f4d1-959f-4e90-ba02-c711f46d2d44",
   "metadata": {},
   "outputs": [],
   "source": [
    "# Q7. What do you understand about mutable and immutable data types? Give examples for both showing\n",
    "# this property."
   ]
  },
  {
   "cell_type": "code",
   "execution_count": 32,
   "id": "24042d21-9f1a-4c94-b460-a3ad85bc743c",
   "metadata": {},
   "outputs": [],
   "source": [
    "# Mutable and immutable data types refer to how data can be modified or changed in a programming language.\n",
    "\n",
    "# Immutable Data Types:\n",
    "# Immutable data types are data types whose values cannot be changed after they are created. In Python, some common examples of immutable data types include:\n",
    "\n",
    "# Integers (int)\n",
    "# Floats (float)\n",
    "# Strings (str)\n",
    "# Tuples (tuple)"
   ]
  },
  {
   "cell_type": "code",
   "execution_count": 33,
   "id": "3bccb29d-7a31-4079-81c7-b00043599c2b",
   "metadata": {},
   "outputs": [],
   "source": [
    "# Mutable data types are data types whose values can be changed or modified after they are created. In Python, some common examples of mutable data types include:\n",
    "\n",
    "# Lists (list)\n",
    "# Dictionaries (dict)\n",
    "# Sets (set)"
   ]
  },
  {
   "cell_type": "code",
   "execution_count": 34,
   "id": "7224ebdd-ed4f-4ec6-bba1-07f799f81a51",
   "metadata": {},
   "outputs": [
    {
     "name": "stdout",
     "output_type": "stream",
     "text": [
      "6\n",
      "5\n",
      "[1, 2, 3, 4]\n",
      "[1, 2, 3, 4]\n"
     ]
    }
   ],
   "source": [
    "# Immutable data type (integer)\n",
    "x = 5\n",
    "y = x\n",
    "x = x + 1\n",
    "\n",
    "print(x)  # Output: 6\n",
    "print(y)  # Output: 5 (y remains unchanged)\n",
    "\n",
    "# Mutable data type (list)\n",
    "list1 = [1, 2, 3]\n",
    "list2 = list1\n",
    "list1.append(4)\n",
    "\n",
    "print(list1)  # Output: [1, 2, 3, 4]\n",
    "print(list2)  # Output: [1, 2, 3, 4] (list2 is also modified because it refers to the same list)\n"
   ]
  },
  {
   "cell_type": "code",
   "execution_count": null,
   "id": "85f41845-2c85-4bd8-b07f-84a3a27e3316",
   "metadata": {},
   "outputs": [],
   "source": []
  }
 ],
 "metadata": {
  "kernelspec": {
   "display_name": "Python 3 (ipykernel)",
   "language": "python",
   "name": "python3"
  },
  "language_info": {
   "codemirror_mode": {
    "name": "ipython",
    "version": 3
   },
   "file_extension": ".py",
   "mimetype": "text/x-python",
   "name": "python",
   "nbconvert_exporter": "python",
   "pygments_lexer": "ipython3",
   "version": "3.10.8"
  }
 },
 "nbformat": 4,
 "nbformat_minor": 5
}
